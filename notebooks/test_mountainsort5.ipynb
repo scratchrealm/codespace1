{
 "cells": [
  {
   "cell_type": "code",
   "execution_count": 1,
   "metadata": {},
   "outputs": [
    {
     "name": "stderr",
     "output_type": "stream",
     "text": [
      "/home/codespace/.python/current/lib/python3.10/site-packages/tqdm/auto.py:21: TqdmWarning: IProgress not found. Please update jupyter and ipywidgets. See https://ipywidgets.readthedocs.io/en/stable/user_install.html\n",
      "  from .autonotebook import tqdm as notebook_tqdm\n"
     ]
    }
   ],
   "source": [
    "from typing import Union, List\n",
    "import numpy as np\n",
    "import h5py\n",
    "import remfile\n",
    "import spikeinterface.preprocessing as spre\n",
    "import spikeinterface as si\n",
    "import mountainsort5 as ms5"
   ]
  },
  {
   "cell_type": "code",
   "execution_count": 2,
   "metadata": {},
   "outputs": [
    {
     "name": "stdout",
     "output_type": "stream",
     "text": [
      "starting_time: 0.0\n",
      "rate: 30000.0\n",
      "data shape: (30532101, 32)\n"
     ]
    }
   ],
   "source": [
    "url = 'https://dandiarchive.s3.amazonaws.com/blobs/a4c/525/a4c525eb-8f49-4161-a56a-ca0e99bedfbb'\n",
    "\n",
    "# open the remote file\n",
    "disk_cache = remfile.DiskCache('/tmp/remfile_cache')\n",
    "f = h5py.File(remfile.File(url, verbose=True, disk_cache=disk_cache), 'r')\n",
    "\n",
    "# load the neurodata object\n",
    "X = f['/acquisition/ElectricalSeries']\n",
    "\n",
    "starting_time = X['starting_time'][()]\n",
    "rate = X['starting_time'].attrs['rate']\n",
    "data = X['data']\n",
    "\n",
    "print(f'starting_time: {starting_time}')\n",
    "print(f'rate: {rate}')\n",
    "print(f'data shape: {data.shape}')"
   ]
  },
  {
   "cell_type": "code",
   "execution_count": 3,
   "metadata": {},
   "outputs": [],
   "source": [
    "class NwbRecording(si.BaseRecording):\n",
    "    def __init__(self,\n",
    "        file: h5py.File,\n",
    "        electrical_series_path: str\n",
    "    ) -> None:\n",
    "        electrical_series = file[electrical_series_path]\n",
    "        electrical_series_data = electrical_series['data']\n",
    "        dtype = electrical_series_data.dtype\n",
    "\n",
    "        # Get sampling frequency\n",
    "        if 'starting_time' in electrical_series.keys():\n",
    "            t_start = electrical_series['starting_time'][()]\n",
    "            sampling_frequency = electrical_series['starting_time'].attrs['rate']\n",
    "        elif 'timestamps' in electrical_series.keys():\n",
    "            t_start = electrical_series['timestamps'][0]\n",
    "            sampling_frequency = 1 / np.median(np.diff(electrical_series['timestamps'][:1000]))\n",
    "        \n",
    "        # Get channel ids\n",
    "        electrode_indices = electrical_series['electrodes'][:]\n",
    "        electrodes_table = file['/general/extracellular_ephys/electrodes']\n",
    "        channel_ids = [electrodes_table['id'][i] for i in electrode_indices]\n",
    "        \n",
    "        si.BaseRecording.__init__(self, channel_ids=channel_ids, sampling_frequency=sampling_frequency, dtype=dtype)\n",
    "        \n",
    "        # Set electrode locations\n",
    "        if 'x' in electrodes_table:\n",
    "            channel_loc_x = [electrodes_table['x'][i] for i in electrode_indices]\n",
    "            channel_loc_y = [electrodes_table['y'][i] for i in electrode_indices]\n",
    "            if 'z' in electrodes_table:\n",
    "                channel_loc_z = [electrodes_table['z'][i] for i in electrode_indices]\n",
    "            else:\n",
    "                channel_loc_z = None\n",
    "        elif 'rel_x' in electrodes_table:\n",
    "            channel_loc_x = [electrodes_table['rel_x'][i] for i in electrode_indices]\n",
    "            channel_loc_y = [electrodes_table['rel_y'][i] for i in electrode_indices]\n",
    "            if 'rel_z' in electrodes_table:\n",
    "                channel_loc_z = [electrodes_table['rel_z'][i] for i in electrode_indices]\n",
    "            else:\n",
    "                channel_loc_z = None\n",
    "        else:\n",
    "            channel_loc_x = None\n",
    "            channel_loc_y = None\n",
    "            channel_loc_z = None\n",
    "        if channel_loc_x is not None:\n",
    "            ndim = 2 if channel_loc_z is None else 3\n",
    "            locations = np.zeros((len(electrode_indices), ndim), dtype=float)\n",
    "            for i, electrode_index in enumerate(electrode_indices):\n",
    "                locations[i, 0] = channel_loc_x[electrode_index]\n",
    "                locations[i, 1] = channel_loc_y[electrode_index]\n",
    "                if channel_loc_z is not None:\n",
    "                    locations[i, 2] = channel_loc_z[electrode_index]\n",
    "            self.set_dummy_probe_from_locations(locations)\n",
    "\n",
    "        recording_segment = NwbRecordingSegment(\n",
    "            electrical_series_data=electrical_series_data,\n",
    "            sampling_frequency=sampling_frequency\n",
    "        )\n",
    "        self.add_recording_segment(recording_segment)\n",
    "\n",
    "class NwbRecordingSegment(si.BaseRecordingSegment):\n",
    "    def __init__(self, electrical_series_data: h5py.Dataset, sampling_frequency: float) -> None:\n",
    "        self._electrical_series_data = electrical_series_data\n",
    "        si.BaseRecordingSegment.__init__(self, sampling_frequency=sampling_frequency)\n",
    "\n",
    "    def get_num_samples(self) -> int:\n",
    "        return self._electrical_series_data.shape[0]\n",
    "\n",
    "    def get_traces(self, start_frame: int, end_frame: int, channel_indices: Union[List[int], None]=None) -> np.ndarray:\n",
    "        if channel_indices is None:\n",
    "            return self._electrical_series_data[start_frame:end_frame, :]\n",
    "        else:\n",
    "            return self._electrical_series_data[start_frame:end_frame, channel_indices]\n",
    "\n",
    "recording = NwbRecording(\n",
    "    file=f,\n",
    "    electrical_series_path='/acquisition/ElectricalSeries'\n",
    ")"
   ]
  },
  {
   "cell_type": "code",
   "execution_count": 4,
   "metadata": {},
   "outputs": [],
   "source": [
    "# Make sure the recording is preprocessed appropriately\n",
    "# lazy preprocessing\n",
    "recording_filtered = spre.bandpass_filter(recording, freq_min=300, freq_max=6000)\n",
    "recording_preprocessed: si.BaseRecording = spre.whiten(recording_filtered, dtype='float32')"
   ]
  },
  {
   "cell_type": "code",
   "execution_count": 5,
   "metadata": {},
   "outputs": [],
   "source": [
    "x = recording_preprocessed.get_traces(start_frame=20530101, end_frame=20632101, channel_ids=[0, 1, 2, 3])"
   ]
  },
  {
   "cell_type": "code",
   "execution_count": 6,
   "metadata": {},
   "outputs": [
    {
     "data": {
      "text/plain": [
       "(102000, 4)"
      ]
     },
     "execution_count": 6,
     "metadata": {},
     "output_type": "execute_result"
    }
   ],
   "source": [
    "x.shape"
   ]
  },
  {
   "cell_type": "code",
   "execution_count": 7,
   "metadata": {},
   "outputs": [
    {
     "data": {
      "text/plain": [
       "30532101"
      ]
     },
     "execution_count": 7,
     "metadata": {},
     "output_type": "execute_result"
    }
   ],
   "source": [
    "recording_preprocessed.get_num_frames()"
   ]
  },
  {
   "cell_type": "code",
   "execution_count": 8,
   "metadata": {},
   "outputs": [
    {
     "name": "stdout",
     "output_type": "stream",
     "text": [
      "Number of channels: 32\n",
      "Number of timepoints: 30532101\n",
      "Sampling frequency: 30000.0 Hz\n",
      "Channel 0: [0. 0.]\n",
      "Channel 1: [-18.   12.5]\n",
      "Channel 2: [18.  12.5]\n",
      "Channel 3: [ 0. 25.]\n",
      "Channel 4: [-18.   37.5]\n",
      "Channel 5: [18.  37.5]\n",
      "Channel 6: [ 0. 50.]\n",
      "Channel 7: [-18.   62.5]\n",
      "Channel 8: [18.  62.5]\n",
      "Channel 9: [ 0. 75.]\n",
      "Channel 10: [-18.   87.5]\n",
      "Channel 11: [18.  87.5]\n",
      "Channel 12: [  0. 100.]\n",
      "Channel 13: [-18.  112.5]\n",
      "Channel 14: [ 18.  112.5]\n",
      "Channel 15: [  0. 125.]\n",
      "Channel 16: [-18.  137.5]\n",
      "Channel 17: [ 18.  137.5]\n",
      "Channel 18: [  0. 150.]\n",
      "Channel 19: [-18.  162.5]\n",
      "Channel 20: [ 18.  162.5]\n",
      "Channel 21: [  0. 175.]\n",
      "Channel 22: [-18.  187.5]\n",
      "Channel 23: [ 18.  187.5]\n",
      "Channel 24: [  0. 200.]\n",
      "Channel 25: [-18.  212.5]\n",
      "Channel 26: [ 18.  212.5]\n",
      "Channel 27: [  0. 225.]\n",
      "Channel 28: [-18.  237.5]\n",
      "Channel 29: [ 18.  237.5]\n",
      "Channel 30: [  0. 250.]\n",
      "Channel 31: [  0. 275.]\n",
      "Loading traces\n",
      "Loading 2 chunks starting at 1153 (0.2048 million bytes)\n",
      "Loading 4 chunks starting at 1155 (0.4096 million bytes)\n",
      "Loading 7 chunks starting at 1159 (0.7168 million bytes)\n",
      "Loading 12 chunks starting at 1166 (1.2288 million bytes)\n",
      "Loading 21 chunks starting at 1178 (2.1504 million bytes)\n",
      "Loading 36 chunks starting at 1199 (3.6864 million bytes)\n",
      "Loading 62 chunks starting at 1235 (6.3488 million bytes)\n",
      "Loading 106 chunks starting at 1297 (10.8544 million bytes)\n",
      "Fetching 10854400 bytes in 2 threads\n",
      "Loading 32 chunks starting at 1403 (3.2768 million bytes)\n",
      "Loading 55 chunks starting at 1442 (5.632 million bytes)\n",
      "Loading 94 chunks starting at 1497 (9.6256 million bytes)\n",
      "Fetching 9625600 bytes in 2 threads\n",
      "Loading 160 chunks starting at 1591 (16.384 million bytes)\n",
      "Fetching 16384000 bytes in 3 threads\n",
      "Loading 272 chunks starting at 1751 (27.8528 million bytes)\n",
      "Fetching 27852800 bytes in 3 threads\n",
      "Loading 463 chunks starting at 2023 (47.4112 million bytes)\n",
      "Fetching 47411200 bytes in 3 threads\n",
      "Loading 788 chunks starting at 2486 (80.6912 million bytes)\n",
      "Fetching 80691200 bytes in 3 threads\n"
     ]
    },
    {
     "ename": "KeyboardInterrupt",
     "evalue": "",
     "output_type": "error",
     "traceback": [
      "\u001b[0;31m---------------------------------------------------------------------------\u001b[0m",
      "\u001b[0;31mKeyboardInterrupt\u001b[0m                         Traceback (most recent call last)",
      "File \u001b[0;32m~/.python/current/lib/python3.10/site-packages/remfile/RemFile.py:271\u001b[0m, in \u001b[0;36m_get_bytes\u001b[0;34m(url, start_byte, end_byte, verbose, bytes_per_thread, max_threads, _impose_request_failures_for_testing)\u001b[0m\n\u001b[1;32m    269\u001b[0m \u001b[39mwith\u001b[39;00m ThreadPoolExecutor(max_workers\u001b[39m=\u001b[39mnum_threads) \u001b[39mas\u001b[39;00m executor:\n\u001b[1;32m    270\u001b[0m     \u001b[39m# Mapping fetch_bytes function to the byte_ranges\u001b[39;00m\n\u001b[0;32m--> 271\u001b[0m     results \u001b[39m=\u001b[39m \u001b[39mlist\u001b[39;49m(executor\u001b[39m.\u001b[39;49mmap(\u001b[39mlambda\u001b[39;49;00m r: fetch_bytes(\u001b[39m*\u001b[39;49mr), thread_args))\n\u001b[1;32m    273\u001b[0m \u001b[39m# Concatenating the results to form the final content\u001b[39;00m\n",
      "File \u001b[0;32m~/.python/current/lib/python3.10/concurrent/futures/_base.py:621\u001b[0m, in \u001b[0;36mExecutor.map.<locals>.result_iterator\u001b[0;34m()\u001b[0m\n\u001b[1;32m    620\u001b[0m \u001b[39mif\u001b[39;00m timeout \u001b[39mis\u001b[39;00m \u001b[39mNone\u001b[39;00m:\n\u001b[0;32m--> 621\u001b[0m     \u001b[39myield\u001b[39;00m _result_or_cancel(fs\u001b[39m.\u001b[39;49mpop())\n\u001b[1;32m    622\u001b[0m \u001b[39melse\u001b[39;00m:\n",
      "File \u001b[0;32m~/.python/current/lib/python3.10/concurrent/futures/_base.py:319\u001b[0m, in \u001b[0;36m_result_or_cancel\u001b[0;34m(***failed resolving arguments***)\u001b[0m\n\u001b[1;32m    318\u001b[0m \u001b[39mtry\u001b[39;00m:\n\u001b[0;32m--> 319\u001b[0m     \u001b[39mreturn\u001b[39;00m fut\u001b[39m.\u001b[39;49mresult(timeout)\n\u001b[1;32m    320\u001b[0m \u001b[39mfinally\u001b[39;00m:\n",
      "File \u001b[0;32m~/.python/current/lib/python3.10/concurrent/futures/_base.py:453\u001b[0m, in \u001b[0;36mFuture.result\u001b[0;34m(self, timeout)\u001b[0m\n\u001b[1;32m    451\u001b[0m     \u001b[39mreturn\u001b[39;00m \u001b[39mself\u001b[39m\u001b[39m.\u001b[39m__get_result()\n\u001b[0;32m--> 453\u001b[0m \u001b[39mself\u001b[39;49m\u001b[39m.\u001b[39;49m_condition\u001b[39m.\u001b[39;49mwait(timeout)\n\u001b[1;32m    455\u001b[0m \u001b[39mif\u001b[39;00m \u001b[39mself\u001b[39m\u001b[39m.\u001b[39m_state \u001b[39min\u001b[39;00m [CANCELLED, CANCELLED_AND_NOTIFIED]:\n",
      "File \u001b[0;32m~/.python/current/lib/python3.10/threading.py:320\u001b[0m, in \u001b[0;36mCondition.wait\u001b[0;34m(self, timeout)\u001b[0m\n\u001b[1;32m    319\u001b[0m \u001b[39mif\u001b[39;00m timeout \u001b[39mis\u001b[39;00m \u001b[39mNone\u001b[39;00m:\n\u001b[0;32m--> 320\u001b[0m     waiter\u001b[39m.\u001b[39;49macquire()\n\u001b[1;32m    321\u001b[0m     gotit \u001b[39m=\u001b[39m \u001b[39mTrue\u001b[39;00m\n",
      "\u001b[0;31mKeyboardInterrupt\u001b[0m: ",
      "\nDuring handling of the above exception, another exception occurred:\n",
      "\u001b[0;31mKeyboardInterrupt\u001b[0m                         Traceback (most recent call last)",
      "Cell \u001b[0;32mIn[8], line 5\u001b[0m\n\u001b[1;32m      1\u001b[0m sorting \u001b[39m=\u001b[39m sorting_params \u001b[39m=\u001b[39m ms5\u001b[39m.\u001b[39mScheme2SortingParameters(\n\u001b[1;32m      2\u001b[0m     phase1_detect_channel_radius\u001b[39m=\u001b[39m\u001b[39m50\u001b[39m,\n\u001b[1;32m      3\u001b[0m     detect_channel_radius\u001b[39m=\u001b[39m\u001b[39m50\u001b[39m\n\u001b[1;32m      4\u001b[0m )\n\u001b[0;32m----> 5\u001b[0m ms5\u001b[39m.\u001b[39;49msorting_scheme2(\n\u001b[1;32m      6\u001b[0m     recording\u001b[39m=\u001b[39;49mrecording_preprocessed,\n\u001b[1;32m      7\u001b[0m     sorting_parameters\u001b[39m=\u001b[39;49msorting_params\n\u001b[1;32m      8\u001b[0m )\n",
      "File \u001b[0;32m~/.python/current/lib/python3.10/site-packages/mountainsort5/schemes/sorting_scheme2.py:78\u001b[0m, in \u001b[0;36msorting_scheme2\u001b[0;34m(recording, sorting_parameters, return_snippet_classifiers, reference_snippet_classifiers, label_offset)\u001b[0m\n\u001b[1;32m     75\u001b[0m     training_recording \u001b[39m=\u001b[39m recording\n\u001b[1;32m     77\u001b[0m \u001b[39m# Run the first phase of spike sorting (same as sorting_scheme1)\u001b[39;00m\n\u001b[0;32m---> 78\u001b[0m sorting1 \u001b[39m=\u001b[39m sorting_scheme1(\n\u001b[1;32m     79\u001b[0m     recording\u001b[39m=\u001b[39;49mtraining_recording,\n\u001b[1;32m     80\u001b[0m     sorting_parameters\u001b[39m=\u001b[39;49mScheme1SortingParameters(\n\u001b[1;32m     81\u001b[0m         detect_threshold\u001b[39m=\u001b[39;49msorting_parameters\u001b[39m.\u001b[39;49mphase1_detect_threshold,\n\u001b[1;32m     82\u001b[0m         detect_sign\u001b[39m=\u001b[39;49msorting_parameters\u001b[39m.\u001b[39;49mdetect_sign,\n\u001b[1;32m     83\u001b[0m         detect_time_radius_msec\u001b[39m=\u001b[39;49msorting_parameters\u001b[39m.\u001b[39;49mphase1_detect_time_radius_msec,\n\u001b[1;32m     84\u001b[0m         detect_channel_radius\u001b[39m=\u001b[39;49msorting_parameters\u001b[39m.\u001b[39;49mphase1_detect_channel_radius,\n\u001b[1;32m     85\u001b[0m         snippet_mask_radius\u001b[39m=\u001b[39;49msorting_parameters\u001b[39m.\u001b[39;49msnippet_mask_radius,\n\u001b[1;32m     86\u001b[0m         snippet_T1\u001b[39m=\u001b[39;49msorting_parameters\u001b[39m.\u001b[39;49msnippet_T1,\n\u001b[1;32m     87\u001b[0m         snippet_T2\u001b[39m=\u001b[39;49msorting_parameters\u001b[39m.\u001b[39;49msnippet_T2,\n\u001b[1;32m     88\u001b[0m         npca_per_channel\u001b[39m=\u001b[39;49msorting_parameters\u001b[39m.\u001b[39;49mphase1_npca_per_channel,\n\u001b[1;32m     89\u001b[0m         npca_per_subdivision\u001b[39m=\u001b[39;49msorting_parameters\u001b[39m.\u001b[39;49mphase1_npca_per_subdivision\n\u001b[1;32m     90\u001b[0m     )\n\u001b[1;32m     91\u001b[0m )\n\u001b[1;32m     92\u001b[0m times, labels \u001b[39m=\u001b[39m get_times_labels_from_sorting(sorting1)\n\u001b[1;32m     93\u001b[0m K \u001b[39m=\u001b[39m np\u001b[39m.\u001b[39mmax(labels) \u001b[39m# number of clusters\u001b[39;00m\n",
      "File \u001b[0;32m~/.python/current/lib/python3.10/site-packages/mountainsort5/schemes/sorting_scheme1.py:53\u001b[0m, in \u001b[0;36msorting_scheme1\u001b[0;34m(recording, sorting_parameters)\u001b[0m\n\u001b[1;32m     50\u001b[0m sorting_parameters\u001b[39m.\u001b[39mcheck_valid(M\u001b[39m=\u001b[39mM, N\u001b[39m=\u001b[39mN, sampling_frequency\u001b[39m=\u001b[39msampling_frequency, channel_locations\u001b[39m=\u001b[39mchannel_locations)\n\u001b[1;32m     52\u001b[0m \u001b[39mprint\u001b[39m(\u001b[39m'\u001b[39m\u001b[39mLoading traces\u001b[39m\u001b[39m'\u001b[39m)\n\u001b[0;32m---> 53\u001b[0m traces \u001b[39m=\u001b[39m recording\u001b[39m.\u001b[39;49mget_traces()\n\u001b[1;32m     55\u001b[0m \u001b[39mprint\u001b[39m(\u001b[39m'\u001b[39m\u001b[39mDetecting spikes\u001b[39m\u001b[39m'\u001b[39m)\n\u001b[1;32m     56\u001b[0m time_radius \u001b[39m=\u001b[39m \u001b[39mint\u001b[39m(math\u001b[39m.\u001b[39mceil(sorting_parameters\u001b[39m.\u001b[39mdetect_time_radius_msec \u001b[39m/\u001b[39m \u001b[39m1000\u001b[39m \u001b[39m*\u001b[39m sampling_frequency))\n",
      "File \u001b[0;32m~/.python/current/lib/python3.10/site-packages/spikeinterface/core/baserecording.py:278\u001b[0m, in \u001b[0;36mBaseRecording.get_traces\u001b[0;34m(self, segment_index, start_frame, end_frame, channel_ids, order, return_scaled, cast_unsigned)\u001b[0m\n\u001b[1;32m    276\u001b[0m channel_indices \u001b[39m=\u001b[39m \u001b[39mself\u001b[39m\u001b[39m.\u001b[39mids_to_indices(channel_ids, prefer_slice\u001b[39m=\u001b[39m\u001b[39mTrue\u001b[39;00m)\n\u001b[1;32m    277\u001b[0m rs \u001b[39m=\u001b[39m \u001b[39mself\u001b[39m\u001b[39m.\u001b[39m_recording_segments[segment_index]\n\u001b[0;32m--> 278\u001b[0m traces \u001b[39m=\u001b[39m rs\u001b[39m.\u001b[39;49mget_traces(start_frame\u001b[39m=\u001b[39;49mstart_frame, end_frame\u001b[39m=\u001b[39;49mend_frame, channel_indices\u001b[39m=\u001b[39;49mchannel_indices)\n\u001b[1;32m    279\u001b[0m \u001b[39mif\u001b[39;00m order \u001b[39mis\u001b[39;00m \u001b[39mnot\u001b[39;00m \u001b[39mNone\u001b[39;00m:\n\u001b[1;32m    280\u001b[0m     \u001b[39massert\u001b[39;00m order \u001b[39min\u001b[39;00m [\u001b[39m\"\u001b[39m\u001b[39mC\u001b[39m\u001b[39m\"\u001b[39m, \u001b[39m\"\u001b[39m\u001b[39mF\u001b[39m\u001b[39m\"\u001b[39m]\n",
      "File \u001b[0;32m~/.python/current/lib/python3.10/site-packages/spikeinterface/preprocessing/whiten.py:102\u001b[0m, in \u001b[0;36mWhitenRecordingSegment.get_traces\u001b[0;34m(self, start_frame, end_frame, channel_indices)\u001b[0m\n\u001b[1;32m    101\u001b[0m \u001b[39mdef\u001b[39;00m \u001b[39mget_traces\u001b[39m(\u001b[39mself\u001b[39m, start_frame, end_frame, channel_indices):\n\u001b[0;32m--> 102\u001b[0m     traces \u001b[39m=\u001b[39m \u001b[39mself\u001b[39;49m\u001b[39m.\u001b[39;49mparent_recording_segment\u001b[39m.\u001b[39;49mget_traces(start_frame, end_frame, \u001b[39mslice\u001b[39;49m(\u001b[39mNone\u001b[39;49;00m))\n\u001b[1;32m    103\u001b[0m     traces_dtype \u001b[39m=\u001b[39m traces\u001b[39m.\u001b[39mdtype\n\u001b[1;32m    104\u001b[0m     \u001b[39m# if uint --> force int\u001b[39;00m\n",
      "File \u001b[0;32m~/.python/current/lib/python3.10/site-packages/spikeinterface/preprocessing/filter.py:130\u001b[0m, in \u001b[0;36mFilterRecordingSegment.get_traces\u001b[0;34m(self, start_frame, end_frame, channel_indices)\u001b[0m\n\u001b[1;32m    129\u001b[0m \u001b[39mdef\u001b[39;00m \u001b[39mget_traces\u001b[39m(\u001b[39mself\u001b[39m, start_frame, end_frame, channel_indices):\n\u001b[0;32m--> 130\u001b[0m     traces_chunk, left_margin, right_margin \u001b[39m=\u001b[39m get_chunk_with_margin(\n\u001b[1;32m    131\u001b[0m         \u001b[39mself\u001b[39;49m\u001b[39m.\u001b[39;49mparent_recording_segment,\n\u001b[1;32m    132\u001b[0m         start_frame,\n\u001b[1;32m    133\u001b[0m         end_frame,\n\u001b[1;32m    134\u001b[0m         channel_indices,\n\u001b[1;32m    135\u001b[0m         \u001b[39mself\u001b[39;49m\u001b[39m.\u001b[39;49mmargin,\n\u001b[1;32m    136\u001b[0m         add_reflect_padding\u001b[39m=\u001b[39;49m\u001b[39mself\u001b[39;49m\u001b[39m.\u001b[39;49madd_reflect_padding,\n\u001b[1;32m    137\u001b[0m     )\n\u001b[1;32m    139\u001b[0m     traces_dtype \u001b[39m=\u001b[39m traces_chunk\u001b[39m.\u001b[39mdtype\n\u001b[1;32m    140\u001b[0m     \u001b[39m# if uint --> force int\u001b[39;00m\n",
      "File \u001b[0;32m~/.python/current/lib/python3.10/site-packages/spikeinterface/core/recording_tools.py:229\u001b[0m, in \u001b[0;36mget_chunk_with_margin\u001b[0;34m(rec_segment, start_frame, end_frame, channel_indices, margin, add_zeros, add_reflect_padding, window_on_margin, dtype)\u001b[0m\n\u001b[1;32m    226\u001b[0m     \u001b[39melse\u001b[39;00m:\n\u001b[1;32m    227\u001b[0m         right_margin \u001b[39m=\u001b[39m margin\n\u001b[0;32m--> 229\u001b[0m     traces_chunk \u001b[39m=\u001b[39m rec_segment\u001b[39m.\u001b[39;49mget_traces(\n\u001b[1;32m    230\u001b[0m         start_frame \u001b[39m-\u001b[39;49m left_margin,\n\u001b[1;32m    231\u001b[0m         end_frame \u001b[39m+\u001b[39;49m right_margin,\n\u001b[1;32m    232\u001b[0m         channel_indices,\n\u001b[1;32m    233\u001b[0m     )\n\u001b[1;32m    235\u001b[0m \u001b[39melse\u001b[39;00m:\n\u001b[1;32m    236\u001b[0m     \u001b[39m# either add_zeros or reflect_padding\u001b[39;00m\n\u001b[1;32m    237\u001b[0m     \u001b[39mif\u001b[39;00m start_frame \u001b[39mis\u001b[39;00m \u001b[39mNone\u001b[39;00m:\n",
      "Cell \u001b[0;32mIn[3], line 72\u001b[0m, in \u001b[0;36mNwbRecordingSegment.get_traces\u001b[0;34m(self, start_frame, end_frame, channel_indices)\u001b[0m\n\u001b[1;32m     70\u001b[0m     \u001b[39mreturn\u001b[39;00m \u001b[39mself\u001b[39m\u001b[39m.\u001b[39m_electrical_series_data[start_frame:end_frame, :]\n\u001b[1;32m     71\u001b[0m \u001b[39melse\u001b[39;00m:\n\u001b[0;32m---> 72\u001b[0m     \u001b[39mreturn\u001b[39;00m \u001b[39mself\u001b[39;49m\u001b[39m.\u001b[39;49m_electrical_series_data[start_frame:end_frame, channel_indices]\n",
      "File \u001b[0;32mh5py/_objects.pyx:54\u001b[0m, in \u001b[0;36mh5py._objects.with_phil.wrapper\u001b[0;34m()\u001b[0m\n",
      "File \u001b[0;32mh5py/_objects.pyx:55\u001b[0m, in \u001b[0;36mh5py._objects.with_phil.wrapper\u001b[0;34m()\u001b[0m\n",
      "File \u001b[0;32m~/.python/current/lib/python3.10/site-packages/h5py/_hl/dataset.py:758\u001b[0m, in \u001b[0;36mDataset.__getitem__\u001b[0;34m(self, args, new_dtype)\u001b[0m\n\u001b[1;32m    756\u001b[0m \u001b[39mif\u001b[39;00m \u001b[39mself\u001b[39m\u001b[39m.\u001b[39m_fast_read_ok \u001b[39mand\u001b[39;00m (new_dtype \u001b[39mis\u001b[39;00m \u001b[39mNone\u001b[39;00m):\n\u001b[1;32m    757\u001b[0m     \u001b[39mtry\u001b[39;00m:\n\u001b[0;32m--> 758\u001b[0m         \u001b[39mreturn\u001b[39;00m \u001b[39mself\u001b[39;49m\u001b[39m.\u001b[39;49m_fast_reader\u001b[39m.\u001b[39;49mread(args)\n\u001b[1;32m    759\u001b[0m     \u001b[39mexcept\u001b[39;00m \u001b[39mTypeError\u001b[39;00m:\n\u001b[1;32m    760\u001b[0m         \u001b[39mpass\u001b[39;00m  \u001b[39m# Fall back to Python read pathway below\u001b[39;00m\n",
      "File \u001b[0;32mh5py/_selector.pyx:376\u001b[0m, in \u001b[0;36mh5py._selector.Reader.read\u001b[0;34m()\u001b[0m\n",
      "File \u001b[0;32mh5py/h5fd.pyx:165\u001b[0m, in \u001b[0;36mh5py.h5fd.H5FD_fileobj_read\u001b[0;34m()\u001b[0m\n",
      "File \u001b[0;32m~/.python/current/lib/python3.10/site-packages/remfile/RemFile.py:76\u001b[0m, in \u001b[0;36mRemFile.read\u001b[0;34m(self, size)\u001b[0m\n\u001b[1;32m     74\u001b[0m chunk_end_index \u001b[39m=\u001b[39m (\u001b[39mself\u001b[39m\u001b[39m.\u001b[39m_position \u001b[39m+\u001b[39m size \u001b[39m-\u001b[39m \u001b[39m1\u001b[39m) \u001b[39m/\u001b[39m\u001b[39m/\u001b[39m \u001b[39mself\u001b[39m\u001b[39m.\u001b[39m_min_chunk_size\n\u001b[1;32m     75\u001b[0m \u001b[39mfor\u001b[39;00m chunk_index \u001b[39min\u001b[39;00m \u001b[39mrange\u001b[39m(chunk_start_index, chunk_end_index \u001b[39m+\u001b[39m \u001b[39m1\u001b[39m):\n\u001b[0;32m---> 76\u001b[0m     \u001b[39mself\u001b[39;49m\u001b[39m.\u001b[39;49m_load_chunk(chunk_index)\n\u001b[1;32m     77\u001b[0m \u001b[39mif\u001b[39;00m chunk_end_index \u001b[39m==\u001b[39m chunk_start_index:\n\u001b[1;32m     78\u001b[0m     chunk \u001b[39m=\u001b[39m \u001b[39mself\u001b[39m\u001b[39m.\u001b[39m_chunks[chunk_start_index]\n",
      "File \u001b[0;32m~/.python/current/lib/python3.10/site-packages/remfile/RemFile.py:148\u001b[0m, in \u001b[0;36mRemFile._load_chunk\u001b[0;34m(self, chunk_index)\u001b[0m\n\u001b[1;32m    146\u001b[0m \u001b[39mif\u001b[39;00m data_end \u001b[39m>\u001b[39m\u001b[39m=\u001b[39m \u001b[39mself\u001b[39m\u001b[39m.\u001b[39mlength:\n\u001b[1;32m    147\u001b[0m     data_end \u001b[39m=\u001b[39m \u001b[39mself\u001b[39m\u001b[39m.\u001b[39mlength \u001b[39m-\u001b[39m \u001b[39m1\u001b[39m\n\u001b[0;32m--> 148\u001b[0m x \u001b[39m=\u001b[39m _get_bytes(\n\u001b[1;32m    149\u001b[0m     \u001b[39mself\u001b[39;49m\u001b[39m.\u001b[39;49m_url,\n\u001b[1;32m    150\u001b[0m     data_start,\n\u001b[1;32m    151\u001b[0m     data_end,\n\u001b[1;32m    152\u001b[0m     verbose\u001b[39m=\u001b[39;49m\u001b[39mself\u001b[39;49m\u001b[39m.\u001b[39;49m_verbose,\n\u001b[1;32m    153\u001b[0m     bytes_per_thread\u001b[39m=\u001b[39;49m\u001b[39mself\u001b[39;49m\u001b[39m.\u001b[39;49m_bytes_per_thread,\n\u001b[1;32m    154\u001b[0m     max_threads\u001b[39m=\u001b[39;49m\u001b[39mself\u001b[39;49m\u001b[39m.\u001b[39;49m_max_threads,\n\u001b[1;32m    155\u001b[0m     _impose_request_failures_for_testing\u001b[39m=\u001b[39;49m\u001b[39mself\u001b[39;49m\u001b[39m.\u001b[39;49m_impose_request_failures_for_testing\n\u001b[1;32m    156\u001b[0m )\n\u001b[1;32m    157\u001b[0m \u001b[39mif\u001b[39;00m \u001b[39mself\u001b[39m\u001b[39m.\u001b[39m_smart_loader_chunk_sequence_length \u001b[39m==\u001b[39m \u001b[39m1\u001b[39m:\n\u001b[1;32m    158\u001b[0m     \u001b[39mself\u001b[39m\u001b[39m.\u001b[39m_chunks[chunk_index] \u001b[39m=\u001b[39m x\n",
      "File \u001b[0;32m~/.python/current/lib/python3.10/site-packages/remfile/RemFile.py:269\u001b[0m, in \u001b[0;36m_get_bytes\u001b[0;34m(url, start_byte, end_byte, verbose, bytes_per_thread, max_threads, _impose_request_failures_for_testing)\u001b[0m\n\u001b[1;32m    266\u001b[0m     \u001b[39mprint\u001b[39m(\u001b[39mf\u001b[39m\u001b[39m\"\u001b[39m\u001b[39mFetching \u001b[39m\u001b[39m{\u001b[39;00mnum_bytes\u001b[39m}\u001b[39;00m\u001b[39m bytes in \u001b[39m\u001b[39m{\u001b[39;00mnum_threads\u001b[39m}\u001b[39;00m\u001b[39m threads\u001b[39m\u001b[39m\"\u001b[39m)\n\u001b[1;32m    268\u001b[0m \u001b[39m# Using ThreadPoolExecutor to manage the threads\u001b[39;00m\n\u001b[0;32m--> 269\u001b[0m \u001b[39mwith\u001b[39;00m ThreadPoolExecutor(max_workers\u001b[39m=\u001b[39mnum_threads) \u001b[39mas\u001b[39;00m executor:\n\u001b[1;32m    270\u001b[0m     \u001b[39m# Mapping fetch_bytes function to the byte_ranges\u001b[39;00m\n\u001b[1;32m    271\u001b[0m     results \u001b[39m=\u001b[39m \u001b[39mlist\u001b[39m(executor\u001b[39m.\u001b[39mmap(\u001b[39mlambda\u001b[39;00m r: fetch_bytes(\u001b[39m*\u001b[39mr), thread_args))\n\u001b[1;32m    273\u001b[0m \u001b[39m# Concatenating the results to form the final content\u001b[39;00m\n",
      "File \u001b[0;32m~/.python/current/lib/python3.10/concurrent/futures/_base.py:649\u001b[0m, in \u001b[0;36mExecutor.__exit__\u001b[0;34m(self, exc_type, exc_val, exc_tb)\u001b[0m\n\u001b[1;32m    648\u001b[0m \u001b[39mdef\u001b[39;00m \u001b[39m__exit__\u001b[39m(\u001b[39mself\u001b[39m, exc_type, exc_val, exc_tb):\n\u001b[0;32m--> 649\u001b[0m     \u001b[39mself\u001b[39;49m\u001b[39m.\u001b[39;49mshutdown(wait\u001b[39m=\u001b[39;49m\u001b[39mTrue\u001b[39;49;00m)\n\u001b[1;32m    650\u001b[0m     \u001b[39mreturn\u001b[39;00m \u001b[39mFalse\u001b[39;00m\n",
      "File \u001b[0;32m~/.python/current/lib/python3.10/concurrent/futures/thread.py:235\u001b[0m, in \u001b[0;36mThreadPoolExecutor.shutdown\u001b[0;34m(self, wait, cancel_futures)\u001b[0m\n\u001b[1;32m    233\u001b[0m \u001b[39mif\u001b[39;00m wait:\n\u001b[1;32m    234\u001b[0m     \u001b[39mfor\u001b[39;00m t \u001b[39min\u001b[39;00m \u001b[39mself\u001b[39m\u001b[39m.\u001b[39m_threads:\n\u001b[0;32m--> 235\u001b[0m         t\u001b[39m.\u001b[39;49mjoin()\n",
      "File \u001b[0;32m~/.python/current/lib/python3.10/threading.py:1096\u001b[0m, in \u001b[0;36mThread.join\u001b[0;34m(self, timeout)\u001b[0m\n\u001b[1;32m   1093\u001b[0m     \u001b[39mraise\u001b[39;00m \u001b[39mRuntimeError\u001b[39;00m(\u001b[39m\"\u001b[39m\u001b[39mcannot join current thread\u001b[39m\u001b[39m\"\u001b[39m)\n\u001b[1;32m   1095\u001b[0m \u001b[39mif\u001b[39;00m timeout \u001b[39mis\u001b[39;00m \u001b[39mNone\u001b[39;00m:\n\u001b[0;32m-> 1096\u001b[0m     \u001b[39mself\u001b[39;49m\u001b[39m.\u001b[39;49m_wait_for_tstate_lock()\n\u001b[1;32m   1097\u001b[0m \u001b[39melse\u001b[39;00m:\n\u001b[1;32m   1098\u001b[0m     \u001b[39m# the behavior of a negative timeout isn't documented, but\u001b[39;00m\n\u001b[1;32m   1099\u001b[0m     \u001b[39m# historically .join(timeout=x) for x<0 has acted as if timeout=0\u001b[39;00m\n\u001b[1;32m   1100\u001b[0m     \u001b[39mself\u001b[39m\u001b[39m.\u001b[39m_wait_for_tstate_lock(timeout\u001b[39m=\u001b[39m\u001b[39mmax\u001b[39m(timeout, \u001b[39m0\u001b[39m))\n",
      "File \u001b[0;32m~/.python/current/lib/python3.10/threading.py:1116\u001b[0m, in \u001b[0;36mThread._wait_for_tstate_lock\u001b[0;34m(self, block, timeout)\u001b[0m\n\u001b[1;32m   1113\u001b[0m     \u001b[39mreturn\u001b[39;00m\n\u001b[1;32m   1115\u001b[0m \u001b[39mtry\u001b[39;00m:\n\u001b[0;32m-> 1116\u001b[0m     \u001b[39mif\u001b[39;00m lock\u001b[39m.\u001b[39;49macquire(block, timeout):\n\u001b[1;32m   1117\u001b[0m         lock\u001b[39m.\u001b[39mrelease()\n\u001b[1;32m   1118\u001b[0m         \u001b[39mself\u001b[39m\u001b[39m.\u001b[39m_stop()\n",
      "\u001b[0;31mKeyboardInterrupt\u001b[0m: "
     ]
    }
   ],
   "source": [
    "sorting = sorting_params = ms5.Scheme2SortingParameters(\n",
    "    phase1_detect_channel_radius=50,\n",
    "    detect_channel_radius=50\n",
    ")\n",
    "ms5.sorting_scheme2(\n",
    "    recording=recording_preprocessed,\n",
    "    sorting_parameters=sorting_params\n",
    ")"
   ]
  },
  {
   "cell_type": "code",
   "execution_count": null,
   "metadata": {},
   "outputs": [],
   "source": []
  }
 ],
 "metadata": {
  "kernelspec": {
   "display_name": "Python 3",
   "language": "python",
   "name": "python3"
  },
  "language_info": {
   "codemirror_mode": {
    "name": "ipython",
    "version": 3
   },
   "file_extension": ".py",
   "mimetype": "text/x-python",
   "name": "python",
   "nbconvert_exporter": "python",
   "pygments_lexer": "ipython3",
   "version": "3.10.8"
  },
  "orig_nbformat": 4,
  "vscode": {
   "interpreter": {
    "hash": "3ad933181bd8a04b432d3370b9dc3b0662ad032c4dfaa4e4f1596c548f763858"
   }
  }
 },
 "nbformat": 4,
 "nbformat_minor": 2
}
