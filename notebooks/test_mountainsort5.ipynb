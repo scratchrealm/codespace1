{
 "cells": [
  {
   "cell_type": "code",
   "execution_count": null,
   "metadata": {},
   "outputs": [],
   "source": [
    "from typing import Union, List\n",
    "import numpy as np\n",
    "import h5py\n",
    "import remfile\n",
    "import spikeinterface.preprocessing as spre\n",
    "import spikeinterface as si\n",
    "import mountainsort5 as ms5"
   ]
  },
  {
   "cell_type": "code",
   "execution_count": null,
   "metadata": {},
   "outputs": [],
   "source": [
    "url = 'https://dandiarchive.s3.amazonaws.com/blobs/a4c/525/a4c525eb-8f49-4161-a56a-ca0e99bedfbb'\n",
    "\n",
    "# open the remote file\n",
    "disk_cache = remfile.DiskCache('/tmp/remfile_cache')\n",
    "f = h5py.File(remfile.File(url, verbose=True, disk_cache=disk_cache), 'r')\n",
    "\n",
    "# load the neurodata object\n",
    "X = f['/acquisition/ElectricalSeries']\n",
    "\n",
    "starting_time = X['starting_time'][()]\n",
    "rate = X['starting_time'].attrs['rate']\n",
    "data = X['data']\n",
    "\n",
    "print(f'starting_time: {starting_time}')\n",
    "print(f'rate: {rate}')\n",
    "print(f'data shape: {data.shape}')"
   ]
  },
  {
   "cell_type": "code",
   "execution_count": null,
   "metadata": {},
   "outputs": [],
   "source": [
    "class NwbRecording(si.BaseRecording):\n",
    "    def __init__(self,\n",
    "        file: h5py.File,\n",
    "        electrical_series_path: str\n",
    "    ) -> None:\n",
    "        electrical_series = file[electrical_series_path]\n",
    "        electrical_series_data = electrical_series['data']\n",
    "        dtype = electrical_series_data.dtype\n",
    "\n",
    "        # Get sampling frequency\n",
    "        if 'starting_time' in electrical_series.keys():\n",
    "            t_start = electrical_series['starting_time'][()]\n",
    "            sampling_frequency = electrical_series['starting_time'].attrs['rate']\n",
    "        elif 'timestamps' in electrical_series.keys():\n",
    "            t_start = electrical_series['timestamps'][0]\n",
    "            sampling_frequency = 1 / np.median(np.diff(electrical_series['timestamps'][:1000]))\n",
    "        \n",
    "        # Get channel ids\n",
    "        electrode_indices = electrical_series['electrodes'][:]\n",
    "        electrodes_table = file['/general/extracellular_ephys/electrodes']\n",
    "        channel_ids = [electrodes_table['id'][i] for i in electrode_indices]\n",
    "        \n",
    "        si.BaseRecording.__init__(self, channel_ids=channel_ids, sampling_frequency=sampling_frequency, dtype=dtype)\n",
    "        \n",
    "        # Set electrode locations\n",
    "        if 'x' in electrodes_table:\n",
    "            channel_loc_x = [electrodes_table['x'][i] for i in electrode_indices]\n",
    "            channel_loc_y = [electrodes_table['y'][i] for i in electrode_indices]\n",
    "            if 'z' in electrodes_table:\n",
    "                channel_loc_z = [electrodes_table['z'][i] for i in electrode_indices]\n",
    "            else:\n",
    "                channel_loc_z = None\n",
    "        elif 'rel_x' in electrodes_table:\n",
    "            channel_loc_x = [electrodes_table['rel_x'][i] for i in electrode_indices]\n",
    "            channel_loc_y = [electrodes_table['rel_y'][i] for i in electrode_indices]\n",
    "            if 'rel_z' in electrodes_table:\n",
    "                channel_loc_z = [electrodes_table['rel_z'][i] for i in electrode_indices]\n",
    "            else:\n",
    "                channel_loc_z = None\n",
    "        else:\n",
    "            channel_loc_x = None\n",
    "            channel_loc_y = None\n",
    "            channel_loc_z = None\n",
    "        if channel_loc_x is not None:\n",
    "            ndim = 2 if channel_loc_z is None else 3\n",
    "            locations = np.zeros((len(electrode_indices), ndim), dtype=float)\n",
    "            for i, electrode_index in enumerate(electrode_indices):\n",
    "                locations[i, 0] = channel_loc_x[electrode_index]\n",
    "                locations[i, 1] = channel_loc_y[electrode_index]\n",
    "                if channel_loc_z is not None:\n",
    "                    locations[i, 2] = channel_loc_z[electrode_index]\n",
    "            self.set_dummy_probe_from_locations(locations)\n",
    "\n",
    "        recording_segment = NwbRecordingSegment(\n",
    "            electrical_series_data=electrical_series_data,\n",
    "            sampling_frequency=sampling_frequency\n",
    "        )\n",
    "        self.add_recording_segment(recording_segment)\n",
    "\n",
    "class NwbRecordingSegment(si.BaseRecordingSegment):\n",
    "    def __init__(self, electrical_series_data: h5py.Dataset, sampling_frequency: float) -> None:\n",
    "        self._electrical_series_data = electrical_series_data\n",
    "        si.BaseRecordingSegment.__init__(self, sampling_frequency=sampling_frequency)\n",
    "\n",
    "    def get_num_samples(self) -> int:\n",
    "        return self._electrical_series_data.shape[0]\n",
    "\n",
    "    def get_traces(self, start_frame: int, end_frame: int, channel_indices: Union[List[int], None]=None) -> np.ndarray:\n",
    "        if channel_indices is None:\n",
    "            return self._electrical_series_data[start_frame:end_frame, :]\n",
    "        else:\n",
    "            return self._electrical_series_data[start_frame:end_frame, channel_indices]\n",
    "\n",
    "recording = NwbRecording(\n",
    "    file=f,\n",
    "    electrical_series_path='/acquisition/ElectricalSeries'\n",
    ")"
   ]
  },
  {
   "cell_type": "code",
   "execution_count": null,
   "metadata": {},
   "outputs": [],
   "source": [
    "# Make sure the recording is preprocessed appropriately\n",
    "# lazy preprocessing\n",
    "recording_filtered = spre.bandpass_filter(recording, freq_min=300, freq_max=6000)\n",
    "recording_preprocessed: si.BaseRecording = spre.whiten(recording_filtered, dtype='float32')"
   ]
  },
  {
   "cell_type": "code",
   "execution_count": null,
   "metadata": {},
   "outputs": [],
   "source": [
    "x = recording_preprocessed.get_traces(start_frame=20530101, end_frame=20632101, channel_ids=[0, 1, 2, 3])"
   ]
  },
  {
   "cell_type": "code",
   "execution_count": null,
   "metadata": {},
   "outputs": [],
   "source": [
    "x.shape"
   ]
  },
  {
   "cell_type": "code",
   "execution_count": null,
   "metadata": {},
   "outputs": [],
   "source": [
    "recording_preprocessed.get_num_frames()"
   ]
  },
  {
   "cell_type": "code",
   "execution_count": null,
   "metadata": {},
   "outputs": [],
   "source": [
    "sorting = sorting_params = ms5.Scheme2SortingParameters(\n",
    "    phase1_detect_channel_radius=50,\n",
    "    detect_channel_radius=50\n",
    ")\n",
    "ms5.sorting_scheme2(\n",
    "    recording=recording_preprocessed,\n",
    "    sorting_parameters=sorting_params\n",
    ")"
   ]
  },
  {
   "cell_type": "code",
   "execution_count": null,
   "metadata": {},
   "outputs": [],
   "source": []
  }
 ],
 "metadata": {
  "kernelspec": {
   "display_name": "Python 3",
   "language": "python",
   "name": "python3"
  },
  "language_info": {
   "codemirror_mode": {
    "name": "ipython",
    "version": 3
   },
   "file_extension": ".py",
   "mimetype": "text/x-python",
   "name": "python",
   "nbconvert_exporter": "python",
   "pygments_lexer": "ipython3",
   "version": "3.10.8"
  },
  "vscode": {
   "interpreter": {
    "hash": "3ad933181bd8a04b432d3370b9dc3b0662ad032c4dfaa4e4f1596c548f763858"
   }
  }
 },
 "nbformat": 4,
 "nbformat_minor": 2
}
